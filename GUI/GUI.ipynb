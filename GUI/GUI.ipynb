{
 "cells": [
  {
   "metadata": {
    "collapsed": true,
    "ExecuteTime": {
     "end_time": "2024-08-15T20:11:23.048930Z",
     "start_time": "2024-08-15T20:11:23.033886Z"
    }
   },
   "cell_type": "code",
   "source": [
    "from Distances.ManhattanDistance import ManhattanDistance\n",
    "from Distances.EuclideanDistance import EuclideanDistance\n",
    "from Distances.ChevyshevDistance import ChevyshevDistance\n",
    "from Point.Point import Point\n",
    "pointa = Point(3, [1, 2, 3])\n",
    "pointb = Point(3, [4, 5, 6])\n",
    "euclidean_distance = EuclideanDistance(pointa, pointb)\n",
    "euclidean_distance.compute_distance()"
   ],
   "id": "initial_id",
   "outputs": [
    {
     "data": {
      "text/plain": [
       "5.196152422706632"
      ]
     },
     "execution_count": 3,
     "metadata": {},
     "output_type": "execute_result"
    }
   ],
   "execution_count": 3
  },
  {
   "metadata": {
    "ExecuteTime": {
     "end_time": "2024-08-15T20:11:24.542488Z",
     "start_time": "2024-08-15T20:11:24.536347Z"
    }
   },
   "cell_type": "code",
   "source": [
    "manhattan_distance = ManhattanDistance(pointa, pointb)\n",
    "manhattan_distance.compute_distance()"
   ],
   "id": "29ad36b6ca3968cf",
   "outputs": [
    {
     "data": {
      "text/plain": [
       "9"
      ]
     },
     "execution_count": 4,
     "metadata": {},
     "output_type": "execute_result"
    }
   ],
   "execution_count": 4
  },
  {
   "metadata": {
    "ExecuteTime": {
     "end_time": "2024-08-15T20:11:27.699132Z",
     "start_time": "2024-08-15T20:11:27.687109Z"
    }
   },
   "cell_type": "code",
   "source": [
    "ChevyshevDistance = ChevyshevDistance(pointa, pointb)\n",
    "ChevyshevDistance.compute_distance() "
   ],
   "id": "88dd66101eb32665",
   "outputs": [
    {
     "data": {
      "text/plain": [
       "3"
      ]
     },
     "execution_count": 5,
     "metadata": {},
     "output_type": "execute_result"
    }
   ],
   "execution_count": 5
  },
  {
   "metadata": {},
   "cell_type": "markdown",
   "source": [
    "## DARKSEID\n",
    "### Instrucciones de Uso para el Cálculo de Distancias entre Puntos en Python\n",
    "\n",
    "Este código permite calcular varias distancias entre dos puntos en un espacio de dimensiones arbitrarias. Los tipos de distancia que se pueden calcular incluyen la distancia Euclidiana, Manhattan y Chebyshev.\n",
    "\n",
    "#### 1. **Instalación y Configuración**\n",
    "   - Asegúrate de que las clases necesarias (`ManhattanDistance`, `EuclideanDistance`, `ChevyshevDistance`, y `Point`) estén disponibles en tu proyecto. Estas clases deberían estar definidas en los módulos correspondientes dentro de las carpetas `Distances` y `Point`.\n",
    "   - Importa las clases al principio de tu script:\n",
    "     ```python\n",
    "     from Distances.ManhattanDistance import ManhattanDistance\n",
    "     from Distances.EuclideanDistance import EuclideanDistance\n",
    "     from Distances.ChevyshevDistance import ChevyshevDistance\n",
    "     from Point.Point import Point\n",
    "     ```\n",
    "\n",
    "#### 2. **Definición de Puntos**\n",
    "   - Los puntos entre los que deseas calcular la distancia deben ser instancias de la clase `Point`. Un punto se define por su dimensión y una lista de coordenadas. La cantidad de valores dentro de la lista de coordenadas debe coincidir con el valor de dimensionalidad dado y ambos puntos deben tener la misma dimensionalidad\n",
    "   - Por ejemplo, para definir dos puntos en un espacio de 3 dimensiones:\n",
    "     ```python\n",
    "     pointa = Point(3, [1, 2, 3])\n",
    "     pointb = Point(3, [4, 5, 6])\n",
    "     ```\n",
    "   - Aquí, `3` es el número de dimensiones, y `[1, 2, 3]` son las coordenadas del punto.\n",
    "\n",
    "#### 3. **Cálculo de Distancias**\n",
    "   - Una vez definidos los puntos, puedes calcular diferentes distancias entre ellos.\n",
    "   \n",
    "   - **Distancia Euclidiana:**\n",
    "     ```python\n",
    "     euclidean_distance = EuclideanDistance(pointa, pointb)\n",
    "     resultado = euclidean_distance.compute_distance()\n",
    "     print(f\"Distancia Euclidiana: {resultado}\")\n",
    "     ```\n",
    "     - La distancia Euclidiana es la longitud de la línea recta entre los dos puntos.\n",
    "\n",
    "   - **Distancia Manhattan:**\n",
    "     ```python\n",
    "     manhattan_distance = ManhattanDistance(pointa, pointb)\n",
    "     resultado = manhattan_distance.compute_distance()\n",
    "     print(f\"Distancia Manhattan: {resultado}\")\n",
    "     ```\n",
    "     - La distancia Manhattan es la suma de las diferencias absolutas de sus coordenadas.\n",
    "\n",
    "   - **Distancia Chebyshev:**\n",
    "     ```python\n",
    "     chevyshev_distance = ChevyshevDistance(pointa, pointb)\n",
    "     resultado = chevyshev_distance.compute_distance()\n",
    "     print(f\"Distancia Chebyshev: {resultado}\")\n",
    "     ```\n",
    "     - La distancia Chebyshev es la mayor de las diferencias absolutas entre las coordenadas correspondientes de los puntos.\n",
    "\n",
    "#### 4. **Visualización del Resultado**\n",
    "   - Los resultados de las distancias calculadas se pueden mostrar utilizando `print`, como se muestra en los ejemplos anteriores.\n",
    "\n",
    "### Ejemplo Completo:\n",
    "```python\n",
    "from Distances.ManhattanDistance import ManhattanDistance\n",
    "from Distances.EuclideanDistance import EuclideanDistance\n",
    "from Distances.ChevyshevDistance import ChevyshevDistance\n",
    "from Point.Point import Point\n",
    "\n",
    "# Definición de puntos\n",
    "pointa = Point(3, [1, 2, 3])\n",
    "pointb = Point(3, [4, 5, 6])\n",
    "\n",
    "# Calcular Distancia Euclidiana\n",
    "euclidean_distance = EuclideanDistance(pointa, pointb)\n",
    "print(\"Distancia Euclidiana:\", euclidean_distance.compute_distance())\n",
    "\n",
    "# Calcular Distancia Manhattan\n",
    "manhattan_distance = ManhattanDistance(pointa, pointb)\n",
    "print(\"Distancia Manhattan:\", manhattan_distance.compute_distance())\n",
    "\n",
    "# Calcular Distancia Chebyshev\n",
    "chevyshev_distance = ChevyshevDistance(pointa, pointb)\n",
    "print(\"Distancia Chebyshev:\", chevyshev_distance.compute_distance())\n",
    "```\n"
   ],
   "id": "1f66016776099bef"
  }
 ],
 "metadata": {
  "kernelspec": {
   "display_name": "Python 3",
   "language": "python",
   "name": "python3"
  },
  "language_info": {
   "codemirror_mode": {
    "name": "ipython",
    "version": 2
   },
   "file_extension": ".py",
   "mimetype": "text/x-python",
   "name": "python",
   "nbconvert_exporter": "python",
   "pygments_lexer": "ipython2",
   "version": "2.7.6"
  }
 },
 "nbformat": 4,
 "nbformat_minor": 5
}
