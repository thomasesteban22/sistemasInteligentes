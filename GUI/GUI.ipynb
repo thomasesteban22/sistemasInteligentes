{
 "cells": [
  {
   "cell_type": "code",
   "id": "initial_id",
   "metadata": {
    "collapsed": true,
    "ExecuteTime": {
     "end_time": "2024-08-10T17:14:01.395681Z",
     "start_time": "2024-08-10T17:14:01.315909Z"
    }
   },
   "source": [
    "from Distances.ManhattanDistance import ManhattanDistance\n",
    "from Distances.EuclideanDistance import EuclideanDistance\n",
    "from Distances.ChevyshevDistance import ChevyshevDistance\n",
    "from Point.Point import Point\n",
    "pointa = Point(3, [1, 2, 3])\n",
    "pointb = Point(3, [4, 5, 6])\n",
    "euclidean_distance = EuclideanDistance(pointa, pointb)\n",
    "euclidean_distance.compute_distance()\n",
    "manhattan_distance = ManhattanDistance(pointa, pointb)\n",
    "manhattan_distance.compute_distance()\n",
    "ChevyshevDistance = ChevyshevDistance(pointa, pointb)\n",
    "ChevyshevDistance.compute_distance()"
   ],
   "outputs": [
    {
     "data": {
      "text/plain": [
       "3"
      ]
     },
     "execution_count": 1,
     "metadata": {},
     "output_type": "execute_result"
    }
   ],
   "execution_count": 1
  }
 ],
 "metadata": {
  "kernelspec": {
   "display_name": "Python 3",
   "language": "python",
   "name": "python3"
  },
  "language_info": {
   "codemirror_mode": {
    "name": "ipython",
    "version": 2
   },
   "file_extension": ".py",
   "mimetype": "text/x-python",
   "name": "python",
   "nbconvert_exporter": "python",
   "pygments_lexer": "ipython2",
   "version": "2.7.6"
  }
 },
 "nbformat": 4,
 "nbformat_minor": 5
}
